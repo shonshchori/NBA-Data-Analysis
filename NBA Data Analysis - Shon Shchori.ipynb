{
 "cells": [
  {
   "cell_type": "markdown",
   "metadata": {},
   "source": [
    "### NBA Data Analysis\n",
    "\n",
    "\n",
    "<u> By Shon Shchori </u>\n",
    "\n",
    "\n",
    "---"
   ]
  },
  {
   "cell_type": "markdown",
   "metadata": {},
   "source": [
    "#### Section 1 - Data wrangling:"
   ]
  },
  {
   "cell_type": "code",
   "execution_count": 1,
   "metadata": {},
   "outputs": [],
   "source": [
    "import pandas as pd\n",
    "import seaborn as sns\n",
    "import matplotlib.pyplot as plt\n",
    "import numpy as np\n",
    "import sklearn as sk\n",
    "from sklearn import tree\n",
    "from sklearn.tree import DecisionTreeClassifier\n",
    "from sklearn.ensemble import RandomForestClassifier\n",
    "from sklearn.metrics import mean_squared_error as mse\n",
    "\n",
    "nba_df = pd.read_csv('nba.csv')"
   ]
  },
  {
   "cell_type": "markdown",
   "metadata": {},
   "source": [
    "**Now, we will drop the rows that have missing values.**  \n",
    "Using `inplace` will make sure that the function will save the variable without the rows that have missing values.  \n",
    "Also, we will reset the index."
   ]
  },
  {
   "cell_type": "code",
   "execution_count": 2,
   "metadata": {},
   "outputs": [
    {
     "data": {
      "text/html": [
       "<div>\n",
       "<style scoped>\n",
       "    .dataframe tbody tr th:only-of-type {\n",
       "        vertical-align: middle;\n",
       "    }\n",
       "\n",
       "    .dataframe tbody tr th {\n",
       "        vertical-align: top;\n",
       "    }\n",
       "\n",
       "    .dataframe thead th {\n",
       "        text-align: right;\n",
       "    }\n",
       "</style>\n",
       "<table border=\"1\" class=\"dataframe\">\n",
       "  <thead>\n",
       "    <tr style=\"text-align: right;\">\n",
       "      <th></th>\n",
       "      <th>Age</th>\n",
       "      <th>Height</th>\n",
       "      <th>Weight</th>\n",
       "      <th>Salary</th>\n",
       "    </tr>\n",
       "  </thead>\n",
       "  <tbody>\n",
       "    <tr>\n",
       "      <th>0</th>\n",
       "      <td>25.0</td>\n",
       "      <td>6-2</td>\n",
       "      <td>180.0</td>\n",
       "      <td>7730337.0</td>\n",
       "    </tr>\n",
       "    <tr>\n",
       "      <th>1</th>\n",
       "      <td>25.0</td>\n",
       "      <td>6-6</td>\n",
       "      <td>235.0</td>\n",
       "      <td>6796117.0</td>\n",
       "    </tr>\n",
       "    <tr>\n",
       "      <th>2</th>\n",
       "      <td>22.0</td>\n",
       "      <td>6-5</td>\n",
       "      <td>185.0</td>\n",
       "      <td>1148640.0</td>\n",
       "    </tr>\n",
       "  </tbody>\n",
       "</table>\n",
       "</div>"
      ],
      "text/plain": [
       "    Age Height  Weight     Salary\n",
       "0  25.0    6-2   180.0  7730337.0\n",
       "1  25.0    6-6   235.0  6796117.0\n",
       "2  22.0    6-5   185.0  1148640.0"
      ]
     },
     "execution_count": 2,
     "metadata": {},
     "output_type": "execute_result"
    }
   ],
   "source": [
    "nba_df.dropna(inplace = True)\n",
    "nba_df.reset_index(drop = True, inplace = True)\n",
    "nba_df[['Age', 'Height', 'Weight', 'Salary']].head(3)"
   ]
  },
  {
   "cell_type": "markdown",
   "metadata": {},
   "source": [
    "---"
   ]
  },
  {
   "cell_type": "markdown",
   "metadata": {},
   "source": [
    "#### Section 2 - handeling 'Height' column:\n",
    "The type of 'Height' column is string. We will do some actions on this column for more convenient handling.  \n",
    "First, we will define an function called `feet_to_inch` which will convert the height from feet to inches (to keep it in scale)."
   ]
  },
  {
   "cell_type": "code",
   "execution_count": 3,
   "metadata": {},
   "outputs": [],
   "source": [
    "def feet_to_inch(height):\n",
    "    height = height.split(\".\")\n",
    "    height = float(height[0])*12 + float(height[1])\n",
    "    return height"
   ]
  },
  {
   "cell_type": "markdown",
   "metadata": {},
   "source": [
    "Now, we will use `apply` and `lambda` functions to make the convertion shorter and easeir.  \n",
    "The first lambda function runs over each cell in 'Height' column and replacing the hyphen notes with dots.  \n",
    "After that, we will use the apply function and the function that we defined to convert the height."
   ]
  },
  {
   "cell_type": "code",
   "execution_count": 4,
   "metadata": {},
   "outputs": [
    {
     "data": {
      "text/html": [
       "<div>\n",
       "<style scoped>\n",
       "    .dataframe tbody tr th:only-of-type {\n",
       "        vertical-align: middle;\n",
       "    }\n",
       "\n",
       "    .dataframe tbody tr th {\n",
       "        vertical-align: top;\n",
       "    }\n",
       "\n",
       "    .dataframe thead th {\n",
       "        text-align: right;\n",
       "    }\n",
       "</style>\n",
       "<table border=\"1\" class=\"dataframe\">\n",
       "  <thead>\n",
       "    <tr style=\"text-align: right;\">\n",
       "      <th></th>\n",
       "      <th>Age</th>\n",
       "      <th>Height</th>\n",
       "      <th>Weight</th>\n",
       "      <th>Salary</th>\n",
       "    </tr>\n",
       "  </thead>\n",
       "  <tbody>\n",
       "    <tr>\n",
       "      <th>0</th>\n",
       "      <td>25.0</td>\n",
       "      <td>74.0</td>\n",
       "      <td>180.0</td>\n",
       "      <td>7730337.0</td>\n",
       "    </tr>\n",
       "    <tr>\n",
       "      <th>1</th>\n",
       "      <td>25.0</td>\n",
       "      <td>78.0</td>\n",
       "      <td>235.0</td>\n",
       "      <td>6796117.0</td>\n",
       "    </tr>\n",
       "    <tr>\n",
       "      <th>2</th>\n",
       "      <td>22.0</td>\n",
       "      <td>77.0</td>\n",
       "      <td>185.0</td>\n",
       "      <td>1148640.0</td>\n",
       "    </tr>\n",
       "  </tbody>\n",
       "</table>\n",
       "</div>"
      ],
      "text/plain": [
       "    Age  Height  Weight     Salary\n",
       "0  25.0    74.0   180.0  7730337.0\n",
       "1  25.0    78.0   235.0  6796117.0\n",
       "2  22.0    77.0   185.0  1148640.0"
      ]
     },
     "execution_count": 4,
     "metadata": {},
     "output_type": "execute_result"
    }
   ],
   "source": [
    "nba_df['Height'] = nba_df['Height'].apply(lambda x: x.replace('-', '.')) #replacing '-' with '.'\n",
    "nba_df['Height'] = nba_df['Height'].apply(feet_to_inch)\n",
    "nba_df['Height'] = nba_df['Height'].astype(float) #convering each cell from string to float.\n",
    "nba_df[['Age', 'Height', 'Weight', 'Salary']].head(3)"
   ]
  },
  {
   "cell_type": "markdown",
   "metadata": {},
   "source": [
    "---"
   ]
  },
  {
   "cell_type": "markdown",
   "metadata": {},
   "source": [
    "#### Section 3 - Positions visualization:\n",
    "Here's countplot and pieplot for the 'Position' column."
   ]
  },
  {
   "cell_type": "code",
   "execution_count": 5,
   "metadata": {},
   "outputs": [
    {
     "data": {
      "image/png": "[encoded data removed]",
      "text/plain": [
       "<Figure size 720x360 with 2 Axes>"
      ]
     },
     "metadata": {
      "needs_background": "light"
     },
     "output_type": "display_data"
    }
   ],
   "source": [
    "fig, axes = plt.subplots(figsize=(10, 5), ncols = 2)\n",
    "pos_plot = sns.countplot(ax = axes[0], x='Position', data = nba_df)\n",
    "pos_pie = nba_df.Position.value_counts().plot.pie(ax = axes[1],autopct=\"%1.2f%%\")"
   ]
  },
  {
   "cell_type": "markdown",
   "metadata": {},
   "source": [
    "In my opinion, **countplot** is easier to read because the height of each column and the left bar that helps to indicate the approximate value. this way it is easy to evaluate the amount and the order of the positions."
   ]
  },
  {
   "cell_type": "markdown",
   "metadata": {},
   "source": [
    "---"
   ]
  },
  {
   "cell_type": "markdown",
   "metadata": {},
   "source": [
    "<a id='section4'></a>\n",
    "### Section 4 - Predict salaries:\n",
    "define the model."
   ]
  },
  {
   "cell_type": "code",
   "execution_count": 6,
   "metadata": {},
   "outputs": [],
   "source": [
    "x = nba_df[['Age', 'Height', 'Weight']] #The features which will predict the target.\n",
    "y = nba_df['Salary'] #The target is the Salary of the player."
   ]
  },
  {
   "cell_type": "code",
   "execution_count": 7,
   "metadata": {},
   "outputs": [],
   "source": [
    "x_train, x_test, y_train, y_test = sk.model_selection.train_test_split(x, y, test_size=0.3, random_state=1) "
   ]
  },
  {
   "cell_type": "markdown",
   "metadata": {},
   "source": [
    "The first five rows of the data that will use to train the model (x_train - features):"
   ]
  },
  {
   "cell_type": "code",
   "execution_count": 8,
   "metadata": {},
   "outputs": [
    {
     "data": {
      "text/html": [
       "<div>\n",
       "<style scoped>\n",
       "    .dataframe tbody tr th:only-of-type {\n",
       "        vertical-align: middle;\n",
       "    }\n",
       "\n",
       "    .dataframe tbody tr th {\n",
       "        vertical-align: top;\n",
       "    }\n",
       "\n",
       "    .dataframe thead th {\n",
       "        text-align: right;\n",
       "    }\n",
       "</style>\n",
       "<table border=\"1\" class=\"dataframe\">\n",
       "  <thead>\n",
       "    <tr style=\"text-align: right;\">\n",
       "      <th></th>\n",
       "      <th>Age</th>\n",
       "      <th>Height</th>\n",
       "      <th>Weight</th>\n",
       "    </tr>\n",
       "  </thead>\n",
       "  <tbody>\n",
       "    <tr>\n",
       "      <th>23</th>\n",
       "      <td>28.0</td>\n",
       "      <td>75.0</td>\n",
       "      <td>205.0</td>\n",
       "    </tr>\n",
       "    <tr>\n",
       "      <th>132</th>\n",
       "      <td>31.0</td>\n",
       "      <td>83.0</td>\n",
       "      <td>232.0</td>\n",
       "    </tr>\n",
       "    <tr>\n",
       "      <th>222</th>\n",
       "      <td>25.0</td>\n",
       "      <td>77.0</td>\n",
       "      <td>230.0</td>\n",
       "    </tr>\n",
       "    <tr>\n",
       "      <th>111</th>\n",
       "      <td>25.0</td>\n",
       "      <td>79.0</td>\n",
       "      <td>240.0</td>\n",
       "    </tr>\n",
       "    <tr>\n",
       "      <th>51</th>\n",
       "      <td>26.0</td>\n",
       "      <td>79.0</td>\n",
       "      <td>220.0</td>\n",
       "    </tr>\n",
       "  </tbody>\n",
       "</table>\n",
       "</div>"
      ],
      "text/plain": [
       "      Age  Height  Weight\n",
       "23   28.0    75.0   205.0\n",
       "132  31.0    83.0   232.0\n",
       "222  25.0    77.0   230.0\n",
       "111  25.0    79.0   240.0\n",
       "51   26.0    79.0   220.0"
      ]
     },
     "execution_count": 8,
     "metadata": {},
     "output_type": "execute_result"
    }
   ],
   "source": [
    "x_train.head(5)"
   ]
  },
  {
   "cell_type": "markdown",
   "metadata": {},
   "source": [
    "The first five rows of the data that will use to test the model (y_test - target):"
   ]
  },
  {
   "cell_type": "code",
   "execution_count": 9,
   "metadata": {},
   "outputs": [
    {
     "data": {
      "text/plain": [
       "250     1499187.0\n",
       "208     2489530.0\n",
       "95       981348.0\n",
       "138    16407501.0\n",
       "229      169883.0\n",
       "Name: Salary, dtype: float64"
      ]
     },
     "execution_count": 9,
     "metadata": {},
     "output_type": "execute_result"
    }
   ],
   "source": [
    "y_test.head(5)"
   ]
  },
  {
   "cell_type": "markdown",
   "metadata": {},
   "source": [
    "---"
   ]
  },
  {
   "cell_type": "markdown",
   "metadata": {},
   "source": [
    "<a id='section5'></a>\n",
    "### Section 5 - Check our model:\n",
    "We need to choose one of our models to predict the salary of the NBA players.  \n",
    "First, let's check the **STD** (Standard Deviation) to see the amount of dispersion of the salaries from the mean."
   ]
  },
  {
   "cell_type": "code",
   "execution_count": 10,
   "metadata": {},
   "outputs": [
    {
     "name": "stdout",
     "output_type": "stream",
     "text": [
      "The STD is : 5,112,678.167\n"
     ]
    }
   ],
   "source": [
    "print(\"The STD is : {:,.3f}\".format(np.std(nba_df.Salary)))"
   ]
  },
  {
   "cell_type": "markdown",
   "metadata": {},
   "source": [
    "We can learn that the STD is quite high - <u>it means that most of the salaries is very far from the mean.</u>  \n",
    "So when we will pick our model - we need to keep that STD on our minds."
   ]
  },
  {
   "cell_type": "markdown",
   "metadata": {},
   "source": [
    "Now, we will check each of the Decision Tree models that we've learn about and pick the best one.  \n",
    "for each model, we will check few different depth and take the one that gives us the minimal MSE."
   ]
  },
  {
   "cell_type": "markdown",
   "metadata": {},
   "source": [
    "<a id='dtr'></a>\n",
    "#### Decision Tree Regressor Model:"
   ]
  },
  {
   "cell_type": "code",
   "execution_count": 11,
   "metadata": {},
   "outputs": [
    {
     "name": "stdout",
     "output_type": "stream",
     "text": [
      "The minimal MSE is: 4,801,892.602 , Which recieved with depth of 3\n"
     ]
    }
   ],
   "source": [
    "mse_list = []\n",
    "for i in range(1,10):\n",
    "    dt_r = sk.tree.DecisionTreeRegressor(max_depth=i, random_state = 1)\n",
    "    dt_r.fit(x_train, y_train)\n",
    "    dt_r_pred = dt_r.predict(x_test)\n",
    "    mse_list.append(mse(y_test,dt_r_pred,squared=False))\n",
    "print(\"The minimal MSE is: {:,.3f}\".format(min(mse_list)), \", Which recieved with depth of\", (mse_list.index(min(mse_list)))+1)"
   ]
  },
  {
   "cell_type": "code",
   "execution_count": 12,
   "metadata": {},
   "outputs": [
    {
     "name": "stdout",
     "output_type": "stream",
     "text": [
      "The minimal MSE is: 5,668,717.302 , Which recieved with depth of 2\n"
     ]
    }
   ],
   "source": [
    "mse_list = []\n",
    "for i in range(1,10):\n",
    "    rf = RandomForestClassifier(max_depth=i,random_state=1)\n",
    "    rf.fit(x_train, y_train)\n",
    "    rf_pred = rf.predict(x_test)\n",
    "    mse_list.append(mse(y_test,rf_pred,squared=False))\n",
    "print(\"The minimal MSE is: {:,.3f}\".format(min(mse_list)), \", Which recieved with depth of\", (mse_list.index(min(mse_list)))+1)"
   ]
  },
  {
   "cell_type": "markdown",
   "metadata": {},
   "source": [
    "#### Decision Tree Classifier Model:"
   ]
  },
  {
   "cell_type": "code",
   "execution_count": 13,
   "metadata": {},
   "outputs": [
    {
     "name": "stdout",
     "output_type": "stream",
     "text": [
      "The minimal MSE is: 5,777,478.381 , Which recieved with depth of 1\n"
     ]
    }
   ],
   "source": [
    "mse_list = [] #saving the mse values to find the minimal one.\n",
    "for i in range(1,10):\n",
    "    dt_c = sk.tree.DecisionTreeClassifier(max_depth = i, random_state=1)\n",
    "    dt_c.fit(x_train, y_train)\n",
    "    dt_c_pred = dt_c.predict(x_test)\n",
    "    mse_list.append(mse(y_test,dt_c_pred,squared=False)) #adds the corrent MSE to the list.\n",
    "print(\"The minimal MSE is: {:,.3f}\".format(min(mse_list)), \", Which recieved with depth of\", (mse_list.index(min(mse_list)))+1)"
   ]
  },
  {
   "cell_type": "markdown",
   "metadata": {},
   "source": [
    "---"
   ]
  },
  {
   "cell_type": "markdown",
   "metadata": {},
   "source": [
    "My choise is **[The decision tree regressor](#dtr)** model, which have the minimal mse in depth 3.  \n",
    "In addition, <u>this is the best model to work on continuous scale.<u/>"
   ]
  },
  {
   "cell_type": "markdown",
   "metadata": {},
   "source": [
    "---"
   ]
  },
  {
   "cell_type": "markdown",
   "metadata": {},
   "source": [
    "#### Section 6:\n",
    "The chosen model is **Decision Tree Regressor**:"
   ]
  },
  {
   "cell_type": "code",
   "execution_count": 14,
   "metadata": {},
   "outputs": [],
   "source": [
    "model = sk.tree.DecisionTreeRegressor(max_depth=3, random_state = 1)\n",
    "model.fit(x_train, y_train)\n",
    "prediction = model.predict(x_test)"
   ]
  },
  {
   "cell_type": "markdown",
   "metadata": {},
   "source": [
    "As we saw before, the right way to calculate the accuricy of this data is with **MSE**:"
   ]
  },
  {
   "cell_type": "code",
   "execution_count": 15,
   "metadata": {},
   "outputs": [
    {
     "name": "stdout",
     "output_type": "stream",
     "text": [
      "The MSE is: 4,801,892.602\n"
     ]
    }
   ],
   "source": [
    "print(\"The MSE is: {:,.3f}\".format(mse(y_test,prediction,squared=False)))"
   ]
  },
  {
   "cell_type": "markdown",
   "metadata": {},
   "source": [
    "**Now we will see the predictions:**  \n",
    "We will build new data frame to see the prediciton in nicer way:\n",
    "The true <u>Salary</u> beside the <u>Prediction</u> for each player, and the <u>mistake<u/> - the gap between the two."
   ]
  },
  {
   "cell_type": "code",
   "execution_count": 16,
   "metadata": {},
   "outputs": [
    {
     "data": {
      "text/html": [
       "<div>\n",
       "<style scoped>\n",
       "    .dataframe tbody tr th:only-of-type {\n",
       "        vertical-align: middle;\n",
       "    }\n",
       "\n",
       "    .dataframe tbody tr th {\n",
       "        vertical-align: top;\n",
       "    }\n",
       "\n",
       "    .dataframe thead th {\n",
       "        text-align: right;\n",
       "    }\n",
       "</style>\n",
       "<table border=\"1\" class=\"dataframe\">\n",
       "  <thead>\n",
       "    <tr style=\"text-align: right;\">\n",
       "      <th></th>\n",
       "      <th>True Salary</th>\n",
       "      <th>Predictions</th>\n",
       "      <th>Mistake</th>\n",
       "    </tr>\n",
       "  </thead>\n",
       "  <tbody>\n",
       "    <tr>\n",
       "      <th>0</th>\n",
       "      <td>$1,499,187.00</td>\n",
       "      <td>$2,268,252.87</td>\n",
       "      <td>$769,065.87</td>\n",
       "    </tr>\n",
       "    <tr>\n",
       "      <th>1</th>\n",
       "      <td>$2,489,530.00</td>\n",
       "      <td>$3,982,688.45</td>\n",
       "      <td>$1,493,158.45</td>\n",
       "    </tr>\n",
       "    <tr>\n",
       "      <th>2</th>\n",
       "      <td>$981,348.00</td>\n",
       "      <td>$9,918,680.14</td>\n",
       "      <td>$8,937,332.14</td>\n",
       "    </tr>\n",
       "    <tr>\n",
       "      <th>3</th>\n",
       "      <td>$16,407,501.00</td>\n",
       "      <td>$3,982,688.45</td>\n",
       "      <td>$12,424,812.55</td>\n",
       "    </tr>\n",
       "    <tr>\n",
       "      <th>4</th>\n",
       "      <td>$169,883.00</td>\n",
       "      <td>$1,801,053.11</td>\n",
       "      <td>$1,631,170.11</td>\n",
       "    </tr>\n",
       "  </tbody>\n",
       "</table>\n",
       "</div>"
      ],
      "text/plain": [
       "      True Salary    Predictions         Mistake\n",
       "0   $1,499,187.00  $2,268,252.87     $769,065.87\n",
       "1   $2,489,530.00  $3,982,688.45   $1,493,158.45\n",
       "2     $981,348.00  $9,918,680.14   $8,937,332.14\n",
       "3  $16,407,501.00  $3,982,688.45  $12,424,812.55\n",
       "4     $169,883.00  $1,801,053.11   $1,631,170.11"
      ]
     },
     "execution_count": 16,
     "metadata": {},
     "output_type": "execute_result"
    }
   ],
   "source": [
    "pred_df = pd.DataFrame(columns = ['True Salary', 'Predictions'])\n",
    "pred_df['True Salary'] = y_test\n",
    "pred_df = pred_df.reset_index(drop=True)\n",
    "pred_df['Predictions'] = prediction\n",
    "\n",
    "pred_df['Mistake'] = abs(pred_df['True Salary'] - pred_df['Predictions']) #the gap between the true and the predict salary.\n",
    "pred_df['Predictions'] = pred_df['Predictions'].map('${:,.2f}'.format) #format the values to nicer way to read.\n",
    "pred_df['True Salary'] = pred_df['True Salary'].map('${:,.2f}'.format)\n",
    "pred_df['Mistake'] = pred_df['Mistake'].map('${:,.2f}'.format)\n",
    "pred_df.head()"
   ]
  },
  {
   "cell_type": "markdown",
   "metadata": {},
   "source": [
    "---"
   ]
  },
  {
   "cell_type": "markdown",
   "metadata": {},
   "source": [
    "#### Section 7:"
   ]
  },
  {
   "cell_type": "markdown",
   "metadata": {},
   "source": [
    "First, we will use the function `get_dummies` to create new dataframe only for the positions, which will be boolean values now."
   ]
  },
  {
   "cell_type": "code",
   "execution_count": 17,
   "metadata": {},
   "outputs": [],
   "source": [
    "position = pd.get_dummies(nba_df['Position'])"
   ]
  },
  {
   "cell_type": "markdown",
   "metadata": {},
   "source": [
    "Now, we will merge the features from **[Section 4](#section4)** and the new position dataframe."
   ]
  },
  {
   "cell_type": "code",
   "execution_count": 18,
   "metadata": {},
   "outputs": [
    {
     "data": {
      "text/html": [
       "<div>\n",
       "<style scoped>\n",
       "    .dataframe tbody tr th:only-of-type {\n",
       "        vertical-align: middle;\n",
       "    }\n",
       "\n",
       "    .dataframe tbody tr th {\n",
       "        vertical-align: top;\n",
       "    }\n",
       "\n",
       "    .dataframe thead th {\n",
       "        text-align: right;\n",
       "    }\n",
       "</style>\n",
       "<table border=\"1\" class=\"dataframe\">\n",
       "  <thead>\n",
       "    <tr style=\"text-align: right;\">\n",
       "      <th></th>\n",
       "      <th>Age</th>\n",
       "      <th>Height</th>\n",
       "      <th>Weight</th>\n",
       "      <th>C</th>\n",
       "      <th>PF</th>\n",
       "      <th>PG</th>\n",
       "      <th>SF</th>\n",
       "      <th>SG</th>\n",
       "    </tr>\n",
       "  </thead>\n",
       "  <tbody>\n",
       "    <tr>\n",
       "      <th>0</th>\n",
       "      <td>25.0</td>\n",
       "      <td>74.0</td>\n",
       "      <td>180.0</td>\n",
       "      <td>0</td>\n",
       "      <td>0</td>\n",
       "      <td>1</td>\n",
       "      <td>0</td>\n",
       "      <td>0</td>\n",
       "    </tr>\n",
       "    <tr>\n",
       "      <th>1</th>\n",
       "      <td>25.0</td>\n",
       "      <td>78.0</td>\n",
       "      <td>235.0</td>\n",
       "      <td>0</td>\n",
       "      <td>0</td>\n",
       "      <td>0</td>\n",
       "      <td>1</td>\n",
       "      <td>0</td>\n",
       "    </tr>\n",
       "    <tr>\n",
       "      <th>2</th>\n",
       "      <td>22.0</td>\n",
       "      <td>77.0</td>\n",
       "      <td>185.0</td>\n",
       "      <td>0</td>\n",
       "      <td>0</td>\n",
       "      <td>0</td>\n",
       "      <td>0</td>\n",
       "      <td>1</td>\n",
       "    </tr>\n",
       "  </tbody>\n",
       "</table>\n",
       "</div>"
      ],
      "text/plain": [
       "    Age  Height  Weight  C  PF  PG  SF  SG\n",
       "0  25.0    74.0   180.0  0   0   1   0   0\n",
       "1  25.0    78.0   235.0  0   0   0   1   0\n",
       "2  22.0    77.0   185.0  0   0   0   0   1"
      ]
     },
     "execution_count": 18,
     "metadata": {},
     "output_type": "execute_result"
    }
   ],
   "source": [
    "new_x = pd.concat([x,position],axis=1)\n",
    "new_x.head(3)"
   ]
  },
  {
   "cell_type": "markdown",
   "metadata": {},
   "source": [
    "We will split the data as we did before:"
   ]
  },
  {
   "cell_type": "code",
   "execution_count": 19,
   "metadata": {},
   "outputs": [],
   "source": [
    "x_train, x_test, y_train, y_test = sk.model_selection.train_test_split(new_x, y, test_size=0.3, random_state=1)"
   ]
  },
  {
   "cell_type": "markdown",
   "metadata": {},
   "source": [
    "And now we will build, train the model and predict the salaries:"
   ]
  },
  {
   "cell_type": "code",
   "execution_count": 20,
   "metadata": {},
   "outputs": [
    {
     "name": "stdout",
     "output_type": "stream",
     "text": [
      "The MSE is: 4,829,903.325\n"
     ]
    }
   ],
   "source": [
    "new_m = sk.tree.DecisionTreeRegressor(max_depth = 1, random_state=1)\n",
    "new_m.fit(x_train, y_train)\n",
    "mypred = new_m.predict(x_test)\n",
    "print(\"The MSE is: {:,.3f}\".format(mse(y_test,mypred,squared=False)))"
   ]
  },
  {
   "cell_type": "markdown",
   "metadata": {},
   "source": [
    "**We can see that the model is now not as good as before we added the Positions.**  \n",
    "It's because the Decision Tree Regressor works on <u>continuous scale</u> and the positions is <u>categorial scale.</u>  \n",
    "But if you'll try the <u>Decision Tree Classifier Model</u>, you'll see that it's still less good then our model."
   ]
  },
  {
   "cell_type": "markdown",
   "metadata": {},
   "source": [
    "---"
   ]
  },
  {
   "cell_type": "markdown",
   "metadata": {},
   "source": [
    "#### Section 8:"
   ]
  },
  {
   "cell_type": "markdown",
   "metadata": {},
   "source": [
    "We saw on **[Section 5](#section5)** how to find the best depth to our model.  \n",
    "After we added the Positions, we've learn that it wasn't a good idea to make the model better,  \n",
    "but the best depth has changed (from 1 to 2):"
   ]
  },
  {
   "cell_type": "code",
   "execution_count": 21,
   "metadata": {},
   "outputs": [
    {
     "name": "stdout",
     "output_type": "stream",
     "text": [
      "The MSE is: 4,827,805.775\n"
     ]
    }
   ],
   "source": [
    "new_m = sk.tree.DecisionTreeRegressor(max_depth = 2, random_state=1)\n",
    "new_m.fit(x_train, y_train)\n",
    "mypred = new_m.predict(x_test)\n",
    "print(\"The MSE is: {:,.3f}\".format(mse(y_test,mypred,squared=False)))"
   ]
  },
  {
   "cell_type": "markdown",
   "metadata": {},
   "source": [
    "---"
   ]
  }
 ],
 "metadata": {
  "kernelspec": {
   "display_name": "Python 3",
   "language": "python",
   "name": "python3"
  },
  "language_info": {
   "codemirror_mode": {
    "name": "ipython",
    "version": 3
   },
   "file_extension": ".py",
   "mimetype": "text/x-python",
   "name": "python",
   "nbconvert_exporter": "python",
   "pygments_lexer": "ipython3",
   "version": "3.8.8"
  }
 },
 "nbformat": 4,
 "nbformat_minor": 4
}
